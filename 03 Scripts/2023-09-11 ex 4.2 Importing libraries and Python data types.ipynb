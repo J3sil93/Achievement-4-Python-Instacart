{
 "cells": [
  {
   "cell_type": "markdown",
   "id": "099a0b83",
   "metadata": {},
   "source": [
    "# Importing Libraries"
   ]
  },
  {
   "cell_type": "code",
   "execution_count": 1,
   "id": "033d8684",
   "metadata": {},
   "outputs": [],
   "source": [
    "# Install Pandas and NumPy\n",
    "import pandas as pd\n",
    "import numpy as np\n",
    "import os"
   ]
  },
  {
   "cell_type": "markdown",
   "id": "8461f575",
   "metadata": {},
   "source": [
    "## Python Types"
   ]
  },
  {
   "cell_type": "markdown",
   "id": "9bf07b21",
   "metadata": {},
   "source": [
    " ### Code 3 different ways of reaching a result of 100 by adding or subtracting numeric variables."
   ]
  },
  {
   "cell_type": "code",
   "execution_count": 1,
   "id": "455c5fa4",
   "metadata": {},
   "outputs": [],
   "source": [
    "x=25"
   ]
  },
  {
   "cell_type": "code",
   "execution_count": 2,
   "id": "3f8ee4ff",
   "metadata": {},
   "outputs": [
    {
     "data": {
      "text/plain": [
       "100"
      ]
     },
     "execution_count": 2,
     "metadata": {},
     "output_type": "execute_result"
    }
   ],
   "source": [
    "# I kinda cheated here\n",
    "x*4"
   ]
  },
  {
   "cell_type": "code",
   "execution_count": 3,
   "id": "4c28e099",
   "metadata": {},
   "outputs": [
    {
     "data": {
      "text/plain": [
       "100"
      ]
     },
     "execution_count": 3,
     "metadata": {},
     "output_type": "execute_result"
    }
   ],
   "source": [
    "x+x+x+x"
   ]
  },
  {
   "cell_type": "code",
   "execution_count": 4,
   "id": "06455851",
   "metadata": {},
   "outputs": [],
   "source": [
    "y=150"
   ]
  },
  {
   "cell_type": "code",
   "execution_count": 5,
   "id": "bff12827",
   "metadata": {},
   "outputs": [
    {
     "data": {
      "text/plain": [
       "100"
      ]
     },
     "execution_count": 5,
     "metadata": {},
     "output_type": "execute_result"
    }
   ],
   "source": [
    "y-x-x"
   ]
  },
  {
   "cell_type": "code",
   "execution_count": 6,
   "id": "65dbcf41",
   "metadata": {},
   "outputs": [
    {
     "data": {
      "text/plain": [
       "100"
      ]
     },
     "execution_count": 6,
     "metadata": {},
     "output_type": "execute_result"
    }
   ],
   "source": [
    "y-75+x"
   ]
  },
  {
   "cell_type": "markdown",
   "id": "f3252878",
   "metadata": {},
   "source": [
    "### Code 2 floating-point variables and divide them by each other"
   ]
  },
  {
   "cell_type": "code",
   "execution_count": 10,
   "id": "688081b7",
   "metadata": {},
   "outputs": [],
   "source": [
    "j=10.21"
   ]
  },
  {
   "cell_type": "code",
   "execution_count": 11,
   "id": "337aba72",
   "metadata": {},
   "outputs": [],
   "source": [
    "c=3.9"
   ]
  },
  {
   "cell_type": "code",
   "execution_count": 12,
   "id": "0ec2aef4",
   "metadata": {},
   "outputs": [
    {
     "data": {
      "text/plain": [
       "2.6179487179487184"
      ]
     },
     "execution_count": 12,
     "metadata": {},
     "output_type": "execute_result"
    }
   ],
   "source": [
    "j/c"
   ]
  },
  {
   "cell_type": "markdown",
   "id": "3793a776",
   "metadata": {},
   "source": [
    "### Construct a short word made of separate strings"
   ]
  },
  {
   "cell_type": "code",
   "execution_count": 17,
   "id": "0490f7fc",
   "metadata": {},
   "outputs": [],
   "source": [
    "m='modern '"
   ]
  },
  {
   "cell_type": "code",
   "execution_count": 15,
   "id": "55a91236",
   "metadata": {},
   "outputs": [],
   "source": [
    "d='day'"
   ]
  },
  {
   "cell_type": "code",
   "execution_count": 18,
   "id": "c7d737c8",
   "metadata": {},
   "outputs": [
    {
     "data": {
      "text/plain": [
       "'modern day'"
      ]
     },
     "execution_count": 18,
     "metadata": {},
     "output_type": "execute_result"
    }
   ],
   "source": [
    "m+d"
   ]
  },
  {
   "cell_type": "markdown",
   "id": "101fbe6d",
   "metadata": {},
   "source": [
    "### Construct 2 short sentences made of separate strings."
   ]
  },
  {
   "cell_type": "code",
   "execution_count": 20,
   "id": "7f0ee35e",
   "metadata": {},
   "outputs": [],
   "source": [
    "w='I love the colors '"
   ]
  },
  {
   "cell_type": "code",
   "execution_count": 21,
   "id": "a60ac409",
   "metadata": {},
   "outputs": [],
   "source": [
    "l='that appear in autumn.'"
   ]
  },
  {
   "cell_type": "code",
   "execution_count": 22,
   "id": "95be18d6",
   "metadata": {},
   "outputs": [
    {
     "data": {
      "text/plain": [
       "'I love the colors that appear in autumn.'"
      ]
     },
     "execution_count": 22,
     "metadata": {},
     "output_type": "execute_result"
    }
   ],
   "source": [
    "w+l"
   ]
  },
  {
   "cell_type": "markdown",
   "id": "fb59796f",
   "metadata": {},
   "source": [
    "## Bonus"
   ]
  },
  {
   "cell_type": "code",
   "execution_count": 25,
   "id": "204be87f",
   "metadata": {},
   "outputs": [],
   "source": [
    "a='Red maple leaves are falling. '"
   ]
  },
  {
   "cell_type": "code",
   "execution_count": 26,
   "id": "1300e881",
   "metadata": {},
   "outputs": [
    {
     "data": {
      "text/plain": [
       "'Red maple leaves are falling. Red maple leaves are falling. Red maple leaves are falling. Red maple leaves are falling. Red maple leaves are falling. Red maple leaves are falling. Red maple leaves are falling. Red maple leaves are falling. Red maple leaves are falling. Red maple leaves are falling. Red maple leaves are falling. Red maple leaves are falling. Red maple leaves are falling. Red maple leaves are falling. Red maple leaves are falling. Red maple leaves are falling. Red maple leaves are falling. Red maple leaves are falling. Red maple leaves are falling. Red maple leaves are falling. Red maple leaves are falling. Red maple leaves are falling. Red maple leaves are falling. Red maple leaves are falling. Red maple leaves are falling. Red maple leaves are falling. Red maple leaves are falling. Red maple leaves are falling. Red maple leaves are falling. Red maple leaves are falling. Red maple leaves are falling. Red maple leaves are falling. Red maple leaves are falling. Red maple leaves are falling. Red maple leaves are falling. Red maple leaves are falling. Red maple leaves are falling. Red maple leaves are falling. Red maple leaves are falling. Red maple leaves are falling. Red maple leaves are falling. Red maple leaves are falling. Red maple leaves are falling. Red maple leaves are falling. Red maple leaves are falling. Red maple leaves are falling. Red maple leaves are falling. Red maple leaves are falling. Red maple leaves are falling. Red maple leaves are falling. Red maple leaves are falling. Red maple leaves are falling. Red maple leaves are falling. Red maple leaves are falling. Red maple leaves are falling. Red maple leaves are falling. Red maple leaves are falling. Red maple leaves are falling. Red maple leaves are falling. Red maple leaves are falling. Red maple leaves are falling. Red maple leaves are falling. Red maple leaves are falling. Red maple leaves are falling. Red maple leaves are falling. Red maple leaves are falling. Red maple leaves are falling. Red maple leaves are falling. Red maple leaves are falling. Red maple leaves are falling. Red maple leaves are falling. Red maple leaves are falling. Red maple leaves are falling. Red maple leaves are falling. Red maple leaves are falling. Red maple leaves are falling. Red maple leaves are falling. Red maple leaves are falling. Red maple leaves are falling. Red maple leaves are falling. Red maple leaves are falling. Red maple leaves are falling. Red maple leaves are falling. Red maple leaves are falling. Red maple leaves are falling. Red maple leaves are falling. Red maple leaves are falling. Red maple leaves are falling. Red maple leaves are falling. Red maple leaves are falling. Red maple leaves are falling. Red maple leaves are falling. Red maple leaves are falling. Red maple leaves are falling. Red maple leaves are falling. Red maple leaves are falling. Red maple leaves are falling. Red maple leaves are falling. Red maple leaves are falling. Red maple leaves are falling. '"
      ]
     },
     "execution_count": 26,
     "metadata": {},
     "output_type": "execute_result"
    }
   ],
   "source": [
    "a*100"
   ]
  }
 ],
 "metadata": {
  "kernelspec": {
   "display_name": "Python 3 (ipykernel)",
   "language": "python",
   "name": "python3"
  },
  "language_info": {
   "codemirror_mode": {
    "name": "ipython",
    "version": 3
   },
   "file_extension": ".py",
   "mimetype": "text/x-python",
   "name": "python",
   "nbconvert_exporter": "python",
   "pygments_lexer": "ipython3",
   "version": "3.11.4"
  }
 },
 "nbformat": 4,
 "nbformat_minor": 5
}
